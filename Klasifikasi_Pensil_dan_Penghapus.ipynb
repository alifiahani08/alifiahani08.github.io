{
  "nbformat": 4,
  "nbformat_minor": 0,
  "metadata": {
    "colab": {
      "name": "Klasifikasi Pensil dan Penghapus.ipynb",
      "provenance": []
    },
    "kernelspec": {
      "name": "python3",
      "display_name": "Python 3"
    },
    "language_info": {
      "name": "python"
    }
  },
  "cells": [
    {
      "cell_type": "markdown",
      "source": [
        "**KLASIFIKASI CITRA ALAT TULIS MENGGUNAKAN CONVOLUTIONAL NEURAL NETWORK (CNN)**"
      ],
      "metadata": {
        "id": "jxi9WSOSIZM2"
      }
    },
    {
      "cell_type": "code",
      "source": [
        "from google.colab import drive\n",
        "drive.mount('/content/drive')"
      ],
      "metadata": {
        "colab": {
          "base_uri": "https://localhost:8080/"
        },
        "id": "zbsxDZiQNN-T",
        "outputId": "278c21bc-97f0-42e4-9189-e9269887bd2c"
      },
      "execution_count": null,
      "outputs": [
        {
          "output_type": "stream",
          "name": "stdout",
          "text": [
            "Mounted at /content/drive\n"
          ]
        }
      ]
    },
    {
      "cell_type": "code",
      "execution_count": null,
      "metadata": {
        "id": "WIiBtclLzVEU",
        "colab": {
          "base_uri": "https://localhost:8080/"
        },
        "outputId": "15ce8a3c-1273-4303-93d7-e5a15694478a"
      },
      "outputs": [
        {
          "output_type": "stream",
          "name": "stdout",
          "text": [
            "Mounted at /content/drive/\n"
          ]
        }
      ],
      "source": [
        "from google.colab import drive\n",
        "import os\n",
        "\n",
        "drive.mount(\"/content/drive/\",force_remount=True)"
      ]
    },
    {
      "cell_type": "code",
      "source": [
        "base_dir='/content/drive/My Drive/Data Klasifikasi Pensil dan Penghapus'\n",
        "!ls '/content/drive/My Drive/Data Klasifikasi Pensil dan Penghapus'"
      ],
      "metadata": {
        "id": "uromjKWv0oKy",
        "colab": {
          "base_uri": "https://localhost:8080/"
        },
        "outputId": "1e6f311a-58b3-49b5-ff0d-c701a323c3f9"
      },
      "execution_count": null,
      "outputs": [
        {
          "output_type": "stream",
          "name": "stdout",
          "text": [
            "Bahan  data  Test  Train\n"
          ]
        }
      ]
    },
    {
      "cell_type": "code",
      "source": [
        "#menentukan direktori\n",
        "bahan_dir=os.path.join(base_dir,'Bahan')\n",
        "train_dir=os.path.join(base_dir,'Train')\n",
        "test_dir=os.path.join(base_dir,'Test')"
      ],
      "metadata": {
        "id": "sMWQdVlB021X"
      },
      "execution_count": null,
      "outputs": []
    },
    {
      "cell_type": "code",
      "source": [
        "#menentukan direktori isi bahan\n",
        "pensil_dir=os.path.join(bahan_dir, 'pensil/')\n",
        "penghapus_dir=os.path.join(bahan_dir, 'penghapus/')\n",
        "\n",
        "print(\"jumlah data train tiap kelas\")\n",
        "print(\"jumlah gambar pensil     :\", len(os.listdir(pensil_dir)))\n",
        "print(\"jumlah gambar penghapus  :\", len(os.listdir(penghapus_dir)))"
      ],
      "metadata": {
        "colab": {
          "base_uri": "https://localhost:8080/"
        },
        "id": "0ED1UwFiKC5w",
        "outputId": "fe36efa3-0ea7-4d40-fbc7-e9998165114f"
      },
      "execution_count": null,
      "outputs": [
        {
          "output_type": "stream",
          "name": "stdout",
          "text": [
            "jumlah data train tiap kelas\n",
            "jumlah gambar pensil     : 50\n",
            "jumlah gambar penghapus  : 50\n"
          ]
        }
      ]
    },
    {
      "cell_type": "code",
      "source": [
        "#Direktori isi latih/training\n",
        "train_pensil=os.path.join(train_dir, 'pensil/')\n",
        "train_penghapus=os.path.join(train_dir, 'penghapus/')\n",
        "\n",
        "#Direktori isi validasi\n",
        "test_pensil=os.path.join(test_dir, 'pensil/')\n",
        "test_penghapus=os.path.join(test_dir, 'penghapus/')"
      ],
      "metadata": {
        "id": "S-q4S5IZkjYX"
      },
      "execution_count": null,
      "outputs": []
    },
    {
      "cell_type": "markdown",
      "source": [
        "Menyiapkan Dataset"
      ],
      "metadata": {
        "id": "7YDOMl2plMt9"
      }
    },
    {
      "cell_type": "code",
      "source": [
        "import random\n",
        "from shutil import copyfile \n",
        "\n",
        "def train_val_split(source, train, val, train_ratio):\n",
        "  total_size = len(os.listdir(source))\n",
        "  train_size = int(train_ratio *total_size)\n",
        "  val_size = total_size - train_size\n",
        "\n",
        "  randomized = random.sample(os.listdir(source), total_size)\n",
        "  train_files = randomized[0:train_size]\n",
        "  val_files = randomized[train_size:total_size]\n",
        "\n",
        "  for i in train_files:\n",
        "    i_file = source + i\n",
        "    destination = train + i\n",
        "    copyfile(i_file, destination)\n",
        "\n",
        "  for i in val_files:\n",
        "    i_file = source + i\n",
        "    destination = val + i\n",
        "    copyfile(i_file, destination)\n",
        "\n",
        "#jumlah pembagian data training dan testing\n",
        "train_ratio = 0.8\n",
        "\n",
        "#pembagian training dan validasi\n",
        "#training\n",
        "source_00 = pensil_dir\n",
        "train_00 = train_pensil\n",
        "test_00 = test_pensil\n",
        "train_val_split(source_00, train_00, test_00, train_ratio)\n",
        "\n",
        "#validasi\n",
        "source_01 = penghapus_dir\n",
        "train_01 = train_penghapus\n",
        "test_01 = test_penghapus\n",
        "train_val_split(source_01, train_01, test_01, train_ratio)"
      ],
      "metadata": {
        "id": "8-Ab65OBvlA3"
      },
      "execution_count": null,
      "outputs": []
    },
    {
      "cell_type": "code",
      "source": [
        "print('Jumlah All pensil   :', len(os.listdir(pensil_dir)))\n",
        "print('Jumlah Train pensil :', len(os.listdir(train_pensil)))\n",
        "print('Jumlah Test pensil   :', len(os.listdir(test_pensil)))"
      ],
      "metadata": {
        "colab": {
          "base_uri": "https://localhost:8080/"
        },
        "id": "zXgln8jfK_TX",
        "outputId": "d92fc0c0-7bb5-415f-88ee-c6421a1a6c2e"
      },
      "execution_count": null,
      "outputs": [
        {
          "output_type": "stream",
          "name": "stdout",
          "text": [
            "Jumlah All pensil   : 50\n",
            "Jumlah Train pensil : 48\n",
            "Jumlah Test pensil   : 18\n"
          ]
        }
      ]
    },
    {
      "cell_type": "code",
      "source": [
        ""
      ],
      "metadata": {
        "id": "gl9rZYV1BFR9"
      },
      "execution_count": null,
      "outputs": []
    },
    {
      "cell_type": "code",
      "source": [
        "print('Jumlah All penghapus   :', len(os.listdir(penghapus_dir)))\n",
        "print('Jumlah Train penghapus :', len(os.listdir(train_penghapus)))\n",
        "print('Jumlah Test penghapus   :', len(os.listdir(test_penghapus)))"
      ],
      "metadata": {
        "colab": {
          "base_uri": "https://localhost:8080/"
        },
        "outputId": "b516a3e8-7d6d-4f58-8d6d-8dc9552f1ca3",
        "id": "QoEWa4TvBGub"
      },
      "execution_count": null,
      "outputs": [
        {
          "output_type": "stream",
          "name": "stdout",
          "text": [
            "Jumlah All penghapus   : 50\n",
            "Jumlah Train penghapus : 47\n",
            "Jumlah Test penghapus   : 17\n"
          ]
        }
      ]
    },
    {
      "cell_type": "markdown",
      "source": [
        "Pre Processing"
      ],
      "metadata": {
        "id": "T0K_MOhhqC6g"
      }
    },
    {
      "cell_type": "code",
      "source": [
        "import tensorflow as tf\n",
        "from tensorflow.keras.optimizers import Adam\n",
        "from tensorflow.keras.preprocessing.image import ImageDataGenerator"
      ],
      "metadata": {
        "id": "njrCQaCVqBlY"
      },
      "execution_count": null,
      "outputs": []
    },
    {
      "cell_type": "code",
      "source": [
        "train_datagen = ImageDataGenerator(\n",
        "                  rescale = 1./255,\n",
        "                  rotation_range = 30,\n",
        "                  horizontal_flip = True,\n",
        "                  shear_range = 0.3, \n",
        "                  fill_mode = 'nearest',\n",
        "                  width_shift_range = 0.2,\n",
        "                  height_shift_range = 0.2,\n",
        "                  zoom_range = 0.1\n",
        ")\n",
        "\n",
        "val_datagen = ImageDataGenerator(\n",
        "                  rescale = 1./255,\n",
        "                  rotation_range = 30,\n",
        "                  horizontal_flip = True,\n",
        "                  shear_range = 0.3, \n",
        "                  fill_mode = 'nearest',\n",
        "                  width_shift_range = 0.2,\n",
        "                  height_shift_range = 0.2,\n",
        "                  zoom_range = 0.1\n",
        ")"
      ],
      "metadata": {
        "id": "Oa0jBHtqqwoY"
      },
      "execution_count": null,
      "outputs": []
    },
    {
      "cell_type": "markdown",
      "source": [
        "Target"
      ],
      "metadata": {
        "id": "JKu8UVYVr-jd"
      }
    },
    {
      "cell_type": "code",
      "source": [
        "train_generator = train_datagen.flow_from_directory(\n",
        "    train_dir,\n",
        "    target_size = (150, 150),\n",
        "    batch_size = 10,\n",
        "    class_mode = 'categorical'\n",
        ")\n",
        "\n",
        "val_generator = train_datagen.flow_from_directory(\n",
        "    test_dir,\n",
        "    target_size = (150, 150),\n",
        "    batch_size = 10,\n",
        "    class_mode = 'categorical'\n",
        ")"
      ],
      "metadata": {
        "colab": {
          "base_uri": "https://localhost:8080/"
        },
        "id": "E-b-bUDfLJaY",
        "outputId": "d579ae79-097b-48dc-aff1-e14d74ade409"
      },
      "execution_count": null,
      "outputs": [
        {
          "output_type": "stream",
          "name": "stdout",
          "text": [
            "Found 95 images belonging to 2 classes.\n",
            "Found 35 images belonging to 2 classes.\n"
          ]
        }
      ]
    },
    {
      "cell_type": "code",
      "source": [
        "class myCallback(tf.keras.callbacks.Callback):\n",
        "  def on_epoch_end(self, epoch, logs = {}):\n",
        "    if(logs.get('accuracy') > 0.99):\n",
        "      print('\\nAkurasi mencapai 99%')\n",
        "      self.model.stop_training = True\n",
        "  \n",
        "callbacks = myCallback()"
      ],
      "metadata": {
        "id": "-RLwh8aZI483"
      },
      "execution_count": null,
      "outputs": []
    },
    {
      "cell_type": "markdown",
      "source": [
        "Model CNN"
      ],
      "metadata": {
        "id": "k4GIL6dNutd5"
      }
    },
    {
      "cell_type": "code",
      "source": [
        "model = tf.keras.models.Sequential([\n",
        "          tf.keras.layers.Conv2D(16, (3,3), activation = 'relu', input_shape = (150,150,3)),\n",
        "          tf.keras.layers.MaxPooling2D(2,2),\n",
        "          tf.keras.layers.Conv2D(32, (3,3), activation = 'relu'),\n",
        "          tf.keras.layers.MaxPooling2D(2,2),\n",
        "          tf.keras.layers.Conv2D(64, (3,3), activation = 'relu'),\n",
        "          tf.keras.layers.MaxPooling2D(2,2),\n",
        "          tf.keras.layers.Flatten(),\n",
        "          tf.keras.layers.Dense(200, activation = 'relu'),\n",
        "          tf.keras.layers.Dropout(0.3, seed = 112),\n",
        "          tf.keras.layers.Dense(500, activation = 'relu'),\n",
        "          tf.keras.layers.Dropout(0.5, seed = 112),\n",
        "          tf.keras.layers.Dense(2, activation = 'sigmoid'),\n",
        "])"
      ],
      "metadata": {
        "id": "62whe9ARu_Up"
      },
      "execution_count": null,
      "outputs": []
    },
    {
      "cell_type": "code",
      "source": [
        "model.summary()"
      ],
      "metadata": {
        "colab": {
          "base_uri": "https://localhost:8080/"
        },
        "id": "KJU9SBB2JJh9",
        "outputId": "ce8b5cd3-2db9-4aa8-d964-02d36f501b23"
      },
      "execution_count": null,
      "outputs": [
        {
          "output_type": "stream",
          "name": "stdout",
          "text": [
            "Model: \"sequential\"\n",
            "_________________________________________________________________\n",
            " Layer (type)                Output Shape              Param #   \n",
            "=================================================================\n",
            " conv2d (Conv2D)             (None, 148, 148, 16)      448       \n",
            "                                                                 \n",
            " max_pooling2d (MaxPooling2D  (None, 74, 74, 16)       0         \n",
            " )                                                               \n",
            "                                                                 \n",
            " conv2d_1 (Conv2D)           (None, 72, 72, 32)        4640      \n",
            "                                                                 \n",
            " max_pooling2d_1 (MaxPooling  (None, 36, 36, 32)       0         \n",
            " 2D)                                                             \n",
            "                                                                 \n",
            " conv2d_2 (Conv2D)           (None, 34, 34, 64)        18496     \n",
            "                                                                 \n",
            " max_pooling2d_2 (MaxPooling  (None, 17, 17, 64)       0         \n",
            " 2D)                                                             \n",
            "                                                                 \n",
            " flatten (Flatten)           (None, 18496)             0         \n",
            "                                                                 \n",
            " dense (Dense)               (None, 200)               3699400   \n",
            "                                                                 \n",
            " dropout (Dropout)           (None, 200)               0         \n",
            "                                                                 \n",
            " dense_1 (Dense)             (None, 500)               100500    \n",
            "                                                                 \n",
            " dropout_1 (Dropout)         (None, 500)               0         \n",
            "                                                                 \n",
            " dense_2 (Dense)             (None, 2)                 1002      \n",
            "                                                                 \n",
            "=================================================================\n",
            "Total params: 3,824,486\n",
            "Trainable params: 3,824,486\n",
            "Non-trainable params: 0\n",
            "_________________________________________________________________\n"
          ]
        }
      ]
    },
    {
      "cell_type": "code",
      "source": [
        "model.compile(loss = 'categorical_crossentropy',\n",
        "              optimizer = 'Adam',\n",
        "              metrics = ['accuracy']\n",
        ")"
      ],
      "metadata": {
        "id": "EDVN7vqyu_h-"
      },
      "execution_count": null,
      "outputs": []
    },
    {
      "cell_type": "code",
      "source": [
        "history = model.fit(\n",
        "            train_generator,\n",
        "            steps_per_epoch = 8,\n",
        "            epochs = 40,\n",
        "            validation_data = val_generator,\n",
        "            validation_steps = 1,\n",
        "            verbose = 1,\n",
        "            callbacks = [callbacks]\n",
        ")"
      ],
      "metadata": {
        "colab": {
          "base_uri": "https://localhost:8080/"
        },
        "id": "5mKSobQ5JS4V",
        "outputId": "a08a7c9a-bf7d-4515-c174-243f141d20ad"
      },
      "execution_count": null,
      "outputs": [
        {
          "output_type": "stream",
          "name": "stdout",
          "text": [
            "Epoch 1/40\n",
            "8/8 [==============================] - 7s 720ms/step - loss: 0.9508 - accuracy: 0.4000 - val_loss: 0.6874 - val_accuracy: 0.7000\n",
            "Epoch 2/40\n",
            "8/8 [==============================] - 4s 494ms/step - loss: 0.6828 - accuracy: 0.6133 - val_loss: 0.7016 - val_accuracy: 0.3000\n",
            "Epoch 3/40\n",
            "8/8 [==============================] - 3s 434ms/step - loss: 0.6612 - accuracy: 0.6133 - val_loss: 0.6081 - val_accuracy: 0.6000\n",
            "Epoch 4/40\n",
            "8/8 [==============================] - 2s 289ms/step - loss: 0.6431 - accuracy: 0.6267 - val_loss: 0.5260 - val_accuracy: 0.6000\n",
            "Epoch 5/40\n",
            "8/8 [==============================] - 2s 280ms/step - loss: 0.5218 - accuracy: 0.7733 - val_loss: 0.7303 - val_accuracy: 0.4000\n",
            "Epoch 6/40\n",
            "8/8 [==============================] - 2s 292ms/step - loss: 0.6035 - accuracy: 0.7067 - val_loss: 0.5120 - val_accuracy: 0.8000\n",
            "Epoch 7/40\n",
            "8/8 [==============================] - 2s 268ms/step - loss: 0.4980 - accuracy: 0.7200 - val_loss: 0.2391 - val_accuracy: 1.0000\n",
            "Epoch 8/40\n",
            "8/8 [==============================] - 2s 272ms/step - loss: 0.4226 - accuracy: 0.8267 - val_loss: 0.2672 - val_accuracy: 0.9000\n",
            "Epoch 9/40\n",
            "8/8 [==============================] - 2s 294ms/step - loss: 0.7313 - accuracy: 0.7125 - val_loss: 0.6833 - val_accuracy: 0.6000\n",
            "Epoch 10/40\n",
            "8/8 [==============================] - 2s 275ms/step - loss: 0.6598 - accuracy: 0.5867 - val_loss: 0.6352 - val_accuracy: 0.4000\n",
            "Epoch 11/40\n",
            "8/8 [==============================] - 2s 302ms/step - loss: 0.6052 - accuracy: 0.5000 - val_loss: 0.4836 - val_accuracy: 0.7000\n",
            "Epoch 12/40\n",
            "8/8 [==============================] - 2s 275ms/step - loss: 0.6057 - accuracy: 0.6667 - val_loss: 0.5332 - val_accuracy: 0.8000\n",
            "Epoch 13/40\n",
            "8/8 [==============================] - 2s 277ms/step - loss: 0.5910 - accuracy: 0.6800 - val_loss: 0.5735 - val_accuracy: 0.7000\n",
            "Epoch 14/40\n",
            "8/8 [==============================] - 2s 291ms/step - loss: 0.5686 - accuracy: 0.7125 - val_loss: 0.3812 - val_accuracy: 0.7000\n",
            "Epoch 15/40\n",
            "8/8 [==============================] - 2s 273ms/step - loss: 0.5535 - accuracy: 0.6933 - val_loss: 0.4528 - val_accuracy: 1.0000\n",
            "Epoch 16/40\n",
            "8/8 [==============================] - 2s 282ms/step - loss: 0.4886 - accuracy: 0.7200 - val_loss: 0.3241 - val_accuracy: 0.9000\n",
            "Epoch 17/40\n",
            "8/8 [==============================] - 2s 283ms/step - loss: 0.5390 - accuracy: 0.7250 - val_loss: 0.3793 - val_accuracy: 0.9000\n",
            "Epoch 18/40\n",
            "8/8 [==============================] - 2s 272ms/step - loss: 0.4685 - accuracy: 0.7867 - val_loss: 0.4000 - val_accuracy: 1.0000\n",
            "Epoch 19/40\n",
            "8/8 [==============================] - 2s 276ms/step - loss: 0.4601 - accuracy: 0.7333 - val_loss: 0.3234 - val_accuracy: 1.0000\n",
            "Epoch 20/40\n",
            "8/8 [==============================] - 2s 273ms/step - loss: 0.3767 - accuracy: 0.8533 - val_loss: 0.3128 - val_accuracy: 0.8000\n",
            "Epoch 21/40\n",
            "8/8 [==============================] - 2s 294ms/step - loss: 0.3329 - accuracy: 0.9000 - val_loss: 0.2548 - val_accuracy: 0.9000\n",
            "Epoch 22/40\n",
            "8/8 [==============================] - 2s 275ms/step - loss: 0.3080 - accuracy: 0.8400 - val_loss: 0.1588 - val_accuracy: 0.9000\n",
            "Epoch 23/40\n",
            "8/8 [==============================] - 2s 278ms/step - loss: 0.3431 - accuracy: 0.8667 - val_loss: 0.1642 - val_accuracy: 1.0000\n",
            "Epoch 24/40\n",
            "8/8 [==============================] - 2s 274ms/step - loss: 0.2610 - accuracy: 0.8667 - val_loss: 0.1549 - val_accuracy: 0.9000\n",
            "Epoch 25/40\n",
            "8/8 [==============================] - 2s 290ms/step - loss: 0.3228 - accuracy: 0.8533 - val_loss: 0.0725 - val_accuracy: 1.0000\n",
            "Epoch 26/40\n",
            "8/8 [==============================] - 2s 278ms/step - loss: 0.3894 - accuracy: 0.8133 - val_loss: 0.3569 - val_accuracy: 0.9000\n",
            "Epoch 27/40\n",
            "8/8 [==============================] - 2s 274ms/step - loss: 0.4889 - accuracy: 0.7200 - val_loss: 0.3638 - val_accuracy: 0.9000\n",
            "Epoch 28/40\n",
            "8/8 [==============================] - 2s 283ms/step - loss: 0.4591 - accuracy: 0.7875 - val_loss: 0.1544 - val_accuracy: 1.0000\n",
            "Epoch 29/40\n",
            "8/8 [==============================] - 2s 289ms/step - loss: 0.3821 - accuracy: 0.8533 - val_loss: 0.2215 - val_accuracy: 0.9000\n",
            "Epoch 30/40\n",
            "8/8 [==============================] - 2s 274ms/step - loss: 0.4043 - accuracy: 0.7600 - val_loss: 0.2261 - val_accuracy: 0.9000\n",
            "Epoch 31/40\n",
            "8/8 [==============================] - 2s 273ms/step - loss: 0.2036 - accuracy: 0.9333 - val_loss: 0.0971 - val_accuracy: 1.0000\n",
            "Epoch 32/40\n",
            "8/8 [==============================] - 2s 277ms/step - loss: 0.1922 - accuracy: 0.9625 - val_loss: 0.0437 - val_accuracy: 1.0000\n",
            "Epoch 33/40\n",
            "8/8 [==============================] - 2s 269ms/step - loss: 0.2130 - accuracy: 0.9333 - val_loss: 0.0661 - val_accuracy: 1.0000\n",
            "Epoch 34/40\n",
            "8/8 [==============================] - 2s 272ms/step - loss: 0.3315 - accuracy: 0.8667 - val_loss: 0.6139 - val_accuracy: 0.7000\n",
            "Epoch 35/40\n",
            "8/8 [==============================] - 2s 273ms/step - loss: 0.3404 - accuracy: 0.8267 - val_loss: 0.2422 - val_accuracy: 0.9000\n",
            "Epoch 36/40\n",
            "8/8 [==============================] - 2s 273ms/step - loss: 0.2719 - accuracy: 0.8667 - val_loss: 0.1579 - val_accuracy: 1.0000\n",
            "Epoch 37/40\n",
            "8/8 [==============================] - 2s 280ms/step - loss: 0.1755 - accuracy: 0.9467 - val_loss: 0.1222 - val_accuracy: 1.0000\n",
            "Epoch 38/40\n",
            "8/8 [==============================] - 2s 276ms/step - loss: 0.1505 - accuracy: 0.9333 - val_loss: 0.0476 - val_accuracy: 1.0000\n",
            "Epoch 39/40\n",
            "8/8 [==============================] - 2s 275ms/step - loss: 0.1735 - accuracy: 0.9333 - val_loss: 0.0879 - val_accuracy: 1.0000\n",
            "Epoch 40/40\n",
            "8/8 [==============================] - 2s 273ms/step - loss: 0.2360 - accuracy: 0.8667 - val_loss: 0.0381 - val_accuracy: 1.0000\n"
          ]
        }
      ]
    },
    {
      "cell_type": "markdown",
      "source": [
        "Tingkat akurasi dan loss model"
      ],
      "metadata": {
        "id": "hAoC-cS0JVKt"
      }
    },
    {
      "cell_type": "code",
      "source": [
        "%matplotlib inline\n",
        "\n",
        "import matplotlib.image as mpimg\n",
        "import matplotlib.pyplot as plt\n",
        "\n",
        "acc = history.history['accuracy']\n",
        "val_acc = history.history['val_accuracy']\n",
        "loss = history.history['loss']\n",
        "val_loss = history.history['val_loss']\n",
        "\n",
        "epochs = range(len(acc))\n",
        "\n",
        "plt.plot(epochs, acc, 'r', label = 'Training Accuracy')\n",
        "plt.plot(epochs, val_acc, 'b', label = 'Validation Accuracy')\n",
        "plt.title('Training and Validation accuracy')\n",
        "plt.legend(loc = 'best')\n",
        "plt.show()\n",
        "\n",
        "plt.plot(epochs, loss, 'r', label = 'Training Loss')\n",
        "plt.plot(epochs, val_loss, 'b', label = 'Validation Loss')\n",
        "plt.title('Training and Validation Loss')\n",
        "plt.legend(loc = 'best')\n",
        "plt.show()"
      ],
      "metadata": {
        "colab": {
          "base_uri": "https://localhost:8080/",
          "height": 545
        },
        "id": "kIcZP4M6Jbce",
        "outputId": "41981b74-6c87-4628-d373-970c81778213"
      },
      "execution_count": null,
      "outputs": [
        {
          "output_type": "display_data",
          "data": {
            "text/plain": [
              "<Figure size 432x288 with 1 Axes>"
            ],
            "image/png": "[encoded data removed]"
          },
          "metadata": {
            "needs_background": "light"
          }
        },
        {
          "output_type": "display_data",
          "data": {
            "text/plain": [
              "<Figure size 432x288 with 1 Axes>"
            ],
            "image/png": "[encoded data removed]"
          },
          "metadata": {
            "needs_background": "light"
          }
        }
      ]
    },
    {
      "cell_type": "markdown",
      "source": [
        "Mencoba Klasifikasi"
      ],
      "metadata": {
        "id": "i3iRiUtZzlzS"
      }
    },
    {
      "cell_type": "code",
      "source": [
        "import numpy as np\n",
        "from keras.preprocessing import image\n",
        "from google.colab import files\n",
        "\n",
        "uploaded = files.upload()\n",
        "\n",
        "for fn in uploaded.keys():\n",
        "\n",
        "  #predicting images\n",
        "  path = fn\n",
        "  img = image.load_img(path, target_size = (150,150))\n",
        "  imgplot = plt.imshow(img)\n",
        "  x = image.img_to_array(img)\n",
        "  x = np.expand_dims(x, axis = 0)\n",
        "\n",
        "  images = np.vstack([x])\n",
        "  classes = model.predict(images, batch_size = 100)\n",
        "\n",
        "  print(fn)\n",
        "\n",
        "  class_list = os.listdir(train_dir)\n",
        "\n",
        "  for j in range(50):\n",
        "    if classes [0][j] -- 1. :\n",
        "      print('This image belongs to class', class_list[j-1])\n",
        "      break\n",
        "      "
      ],
      "metadata": {
        "id": "FvkTHndmu_sn",
        "colab": {
          "resources": {
            "http://localhost:8080/nbextensions/google.colab/files.js": {
              "data": "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",
              "ok": true,
              "headers": [
                [
                  "content-type",
                  "application/javascript"
                ]
              ],
              "status": 200,
              "status_text": ""
            }
          },
          "base_uri": "https://localhost:8080/",
          "height": 38
        },
        "outputId": "fdb90029-efbd-4319-a9a4-858fa8039563"
      },
      "execution_count": null,
      "outputs": [
        {
          "output_type": "display_data",
          "data": {
            "text/plain": [
              "<IPython.core.display.HTML object>"
            ],
            "text/html": [
              "\n",
              "     <input type=\"file\" id=\"files-66036fab-0958-480d-aae8-931eb87c419e\" name=\"files[]\" multiple disabled\n",
              "        style=\"border:none\" />\n",
              "     <output id=\"result-66036fab-0958-480d-aae8-931eb87c419e\">\n",
              "      Upload widget is only available when the cell has been executed in the\n",
              "      current browser session. Please rerun this cell to enable.\n",
              "      </output>\n",
              "      <script src=\"/nbextensions/google.colab/files.js\"></script> "
            ]
          },
          "metadata": {}
        }
      ]
    }
  ]
}